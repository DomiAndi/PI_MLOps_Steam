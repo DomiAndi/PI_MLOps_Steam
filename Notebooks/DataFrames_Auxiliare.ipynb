{
 "cells": [
  {
   "cell_type": "markdown",
   "metadata": {},
   "source": [
    "**Creacion de DataFrames auxiliares**\n",
    "\n",
    "En este notebook vamos a crear los data frames auxiliares que tendremos que usar para las funciones que vamos a desarrollar"
   ]
  },
  {
   "cell_type": "markdown",
   "metadata": {},
   "source": [
    "**Importaciones**"
   ]
  },
  {
   "cell_type": "code",
   "execution_count": 5,
   "metadata": {},
   "outputs": [],
   "source": [
    "import pandas as pd\n",
    "import pyarrow as pa\n",
    "import pyarrow.parquet as pq\n",
    "import warnings\n",
    "warnings.filterwarnings(\"ignore\")"
   ]
  },
  {
   "cell_type": "markdown",
   "metadata": {},
   "source": [
    "**Cargamos los CSV necesarios para extraer la informacion necesaria**"
   ]
  },
  {
   "cell_type": "code",
   "execution_count": 6,
   "metadata": {},
   "outputs": [],
   "source": [
    "df_reviews = pd.read_csv(\"../Archivos Json/user_reviews_limpio.csv\", encoding=\"utf-8\")\n",
    "df_items = pd.read_csv(\"../Archivos Json/user_items_limpio.csv\", encoding=\"utf-8\")\n",
    "df_games = pd.read_csv(\"../Archivos Json/steam_games_limpio.csv\", encoding=\"utf-8\")"
   ]
  },
  {
   "cell_type": "code",
   "execution_count": 7,
   "metadata": {},
   "outputs": [
    {
     "data": {
      "text/plain": [
       "Index(['user_id', 'items_count', 'item_id', 'item_name', 'playtime_forever'], dtype='object')"
      ]
     },
     "execution_count": 7,
     "metadata": {},
     "output_type": "execute_result"
    }
   ],
   "source": [
    "df_items.columns"
   ]
  },
  {
   "cell_type": "code",
   "execution_count": 8,
   "metadata": {},
   "outputs": [
    {
     "data": {
      "text/plain": [
       "Index(['user_id', 'item_id', 'recommend', 'year_posted', 'sentiment_analysis'], dtype='object')"
      ]
     },
     "execution_count": 8,
     "metadata": {},
     "output_type": "execute_result"
    }
   ],
   "source": [
    "df_reviews.columns"
   ]
  },
  {
   "cell_type": "code",
   "execution_count": 9,
   "metadata": {},
   "outputs": [
    {
     "data": {
      "text/plain": [
       "Index(['app_name', 'id', 'developer', 'price_number', 'release_year',\n",
       "       'main_genre'],\n",
       "      dtype='object')"
      ]
     },
     "execution_count": 9,
     "metadata": {},
     "output_type": "execute_result"
    }
   ],
   "source": [
    "df_games.columns"
   ]
  },
  {
   "cell_type": "code",
   "execution_count": 11,
   "metadata": {},
   "outputs": [
    {
     "data": {
      "text/html": [
       "<div>\n",
       "<style scoped>\n",
       "    .dataframe tbody tr th:only-of-type {\n",
       "        vertical-align: middle;\n",
       "    }\n",
       "\n",
       "    .dataframe tbody tr th {\n",
       "        vertical-align: top;\n",
       "    }\n",
       "\n",
       "    .dataframe thead th {\n",
       "        text-align: right;\n",
       "    }\n",
       "</style>\n",
       "<table border=\"1\" class=\"dataframe\">\n",
       "  <thead>\n",
       "    <tr style=\"text-align: right;\">\n",
       "      <th></th>\n",
       "      <th>user_id</th>\n",
       "      <th>items_count</th>\n",
       "      <th>item_id</th>\n",
       "      <th>item_name</th>\n",
       "      <th>playtime_forever</th>\n",
       "      <th>playtime_hour</th>\n",
       "    </tr>\n",
       "  </thead>\n",
       "  <tbody>\n",
       "    <tr>\n",
       "      <th>0</th>\n",
       "      <td>76561197970982479</td>\n",
       "      <td>277</td>\n",
       "      <td>20</td>\n",
       "      <td>Team Fortress Classic</td>\n",
       "      <td>0.0</td>\n",
       "      <td>0.000000</td>\n",
       "    </tr>\n",
       "    <tr>\n",
       "      <th>1</th>\n",
       "      <td>76561197970982479</td>\n",
       "      <td>277</td>\n",
       "      <td>30</td>\n",
       "      <td>Day of Defeat</td>\n",
       "      <td>7.0</td>\n",
       "      <td>0.116667</td>\n",
       "    </tr>\n",
       "    <tr>\n",
       "      <th>2</th>\n",
       "      <td>76561197970982479</td>\n",
       "      <td>277</td>\n",
       "      <td>40</td>\n",
       "      <td>Deathmatch Classic</td>\n",
       "      <td>0.0</td>\n",
       "      <td>0.000000</td>\n",
       "    </tr>\n",
       "    <tr>\n",
       "      <th>3</th>\n",
       "      <td>76561197970982479</td>\n",
       "      <td>277</td>\n",
       "      <td>60</td>\n",
       "      <td>Ricochet</td>\n",
       "      <td>0.0</td>\n",
       "      <td>0.000000</td>\n",
       "    </tr>\n",
       "    <tr>\n",
       "      <th>4</th>\n",
       "      <td>76561197970982479</td>\n",
       "      <td>277</td>\n",
       "      <td>3830</td>\n",
       "      <td>Psychonauts</td>\n",
       "      <td>333.0</td>\n",
       "      <td>5.550000</td>\n",
       "    </tr>\n",
       "    <tr>\n",
       "      <th>...</th>\n",
       "      <td>...</td>\n",
       "      <td>...</td>\n",
       "      <td>...</td>\n",
       "      <td>...</td>\n",
       "      <td>...</td>\n",
       "      <td>...</td>\n",
       "    </tr>\n",
       "    <tr>\n",
       "      <th>3002796</th>\n",
       "      <td>76561198329548331</td>\n",
       "      <td>7</td>\n",
       "      <td>304930</td>\n",
       "      <td>Unturned</td>\n",
       "      <td>677.0</td>\n",
       "      <td>11.283333</td>\n",
       "    </tr>\n",
       "    <tr>\n",
       "      <th>3002797</th>\n",
       "      <td>76561198329548331</td>\n",
       "      <td>7</td>\n",
       "      <td>346330</td>\n",
       "      <td>BrainBread 2</td>\n",
       "      <td>0.0</td>\n",
       "      <td>0.000000</td>\n",
       "    </tr>\n",
       "    <tr>\n",
       "      <th>3002798</th>\n",
       "      <td>76561198329548331</td>\n",
       "      <td>7</td>\n",
       "      <td>373330</td>\n",
       "      <td>All Is Dust</td>\n",
       "      <td>0.0</td>\n",
       "      <td>0.000000</td>\n",
       "    </tr>\n",
       "    <tr>\n",
       "      <th>3002799</th>\n",
       "      <td>76561198329548331</td>\n",
       "      <td>7</td>\n",
       "      <td>521570</td>\n",
       "      <td>You Have 10 Seconds 2</td>\n",
       "      <td>4.0</td>\n",
       "      <td>0.066667</td>\n",
       "    </tr>\n",
       "    <tr>\n",
       "      <th>3002800</th>\n",
       "      <td>76561198329548331</td>\n",
       "      <td>7</td>\n",
       "      <td>519140</td>\n",
       "      <td>Minds Eyes</td>\n",
       "      <td>3.0</td>\n",
       "      <td>0.050000</td>\n",
       "    </tr>\n",
       "  </tbody>\n",
       "</table>\n",
       "<p>3002801 rows × 6 columns</p>\n",
       "</div>"
      ],
      "text/plain": [
       "                   user_id  items_count  item_id              item_name  \\\n",
       "0        76561197970982479          277       20  Team Fortress Classic   \n",
       "1        76561197970982479          277       30          Day of Defeat   \n",
       "2        76561197970982479          277       40     Deathmatch Classic   \n",
       "3        76561197970982479          277       60               Ricochet   \n",
       "4        76561197970982479          277     3830            Psychonauts   \n",
       "...                    ...          ...      ...                    ...   \n",
       "3002796  76561198329548331            7   304930               Unturned   \n",
       "3002797  76561198329548331            7   346330           BrainBread 2   \n",
       "3002798  76561198329548331            7   373330            All Is Dust   \n",
       "3002799  76561198329548331            7   521570  You Have 10 Seconds 2   \n",
       "3002800  76561198329548331            7   519140             Minds Eyes   \n",
       "\n",
       "         playtime_forever  playtime_hour  \n",
       "0                     0.0       0.000000  \n",
       "1                     7.0       0.116667  \n",
       "2                     0.0       0.000000  \n",
       "3                     0.0       0.000000  \n",
       "4                   333.0       5.550000  \n",
       "...                   ...            ...  \n",
       "3002796             677.0      11.283333  \n",
       "3002797               0.0       0.000000  \n",
       "3002798               0.0       0.000000  \n",
       "3002799               4.0       0.066667  \n",
       "3002800               3.0       0.050000  \n",
       "\n",
       "[3002801 rows x 6 columns]"
      ]
     },
     "execution_count": 11,
     "metadata": {},
     "output_type": "execute_result"
    }
   ],
   "source": [
    "df_items[\"playtime_hour\"] = df_items[\"playtime_forever\"]/60\n",
    "df_items"
   ]
  },
  {
   "cell_type": "markdown",
   "metadata": {},
   "source": [
    "**Funcion PlayTimeGenre**\n",
    "\n",
    "En este caso nos piden una funcion que devuelva el año con mas horas jugadas para un genero especificado, por lo que seran necesarias las columnas main_genre, id y Release_year de df_output y la columna playtime_forever e item_id de df_items"
   ]
  },
  {
   "cell_type": "code",
   "execution_count": 12,
   "metadata": {},
   "outputs": [
    {
     "data": {
      "text/html": [
       "<div>\n",
       "<style scoped>\n",
       "    .dataframe tbody tr th:only-of-type {\n",
       "        vertical-align: middle;\n",
       "    }\n",
       "\n",
       "    .dataframe tbody tr th {\n",
       "        vertical-align: top;\n",
       "    }\n",
       "\n",
       "    .dataframe thead th {\n",
       "        text-align: right;\n",
       "    }\n",
       "</style>\n",
       "<table border=\"1\" class=\"dataframe\">\n",
       "  <thead>\n",
       "    <tr style=\"text-align: right;\">\n",
       "      <th></th>\n",
       "      <th>main_genre</th>\n",
       "      <th>release_year</th>\n",
       "      <th>playtime_hour</th>\n",
       "    </tr>\n",
       "  </thead>\n",
       "  <tbody>\n",
       "    <tr>\n",
       "      <th>0</th>\n",
       "      <td>Action</td>\n",
       "      <td>1984</td>\n",
       "      <td>6.400000</td>\n",
       "    </tr>\n",
       "    <tr>\n",
       "      <th>1</th>\n",
       "      <td>Action</td>\n",
       "      <td>1990</td>\n",
       "      <td>313.116667</td>\n",
       "    </tr>\n",
       "    <tr>\n",
       "      <th>2</th>\n",
       "      <td>Action</td>\n",
       "      <td>1991</td>\n",
       "      <td>19.116667</td>\n",
       "    </tr>\n",
       "    <tr>\n",
       "      <th>3</th>\n",
       "      <td>Action</td>\n",
       "      <td>1992</td>\n",
       "      <td>12.683333</td>\n",
       "    </tr>\n",
       "    <tr>\n",
       "      <th>4</th>\n",
       "      <td>Action</td>\n",
       "      <td>1993</td>\n",
       "      <td>33.700000</td>\n",
       "    </tr>\n",
       "    <tr>\n",
       "      <th>...</th>\n",
       "      <td>...</td>\n",
       "      <td>...</td>\n",
       "      <td>...</td>\n",
       "    </tr>\n",
       "    <tr>\n",
       "      <th>230</th>\n",
       "      <td>Utilities</td>\n",
       "      <td>2016</td>\n",
       "      <td>1305.183333</td>\n",
       "    </tr>\n",
       "    <tr>\n",
       "      <th>231</th>\n",
       "      <td>Video Production</td>\n",
       "      <td>2015</td>\n",
       "      <td>0.000000</td>\n",
       "    </tr>\n",
       "    <tr>\n",
       "      <th>232</th>\n",
       "      <td>Web Publishing</td>\n",
       "      <td>2005</td>\n",
       "      <td>1564.116667</td>\n",
       "    </tr>\n",
       "    <tr>\n",
       "      <th>233</th>\n",
       "      <td>Web Publishing</td>\n",
       "      <td>2015</td>\n",
       "      <td>3.100000</td>\n",
       "    </tr>\n",
       "    <tr>\n",
       "      <th>234</th>\n",
       "      <td>Web Publishing</td>\n",
       "      <td>2016</td>\n",
       "      <td>0.000000</td>\n",
       "    </tr>\n",
       "  </tbody>\n",
       "</table>\n",
       "<p>235 rows × 3 columns</p>\n",
       "</div>"
      ],
      "text/plain": [
       "           main_genre  release_year  playtime_hour\n",
       "0              Action          1984       6.400000\n",
       "1              Action          1990     313.116667\n",
       "2              Action          1991      19.116667\n",
       "3              Action          1992      12.683333\n",
       "4              Action          1993      33.700000\n",
       "..                ...           ...            ...\n",
       "230         Utilities          2016    1305.183333\n",
       "231  Video Production          2015       0.000000\n",
       "232    Web Publishing          2005    1564.116667\n",
       "233    Web Publishing          2015       3.100000\n",
       "234    Web Publishing          2016       0.000000\n",
       "\n",
       "[235 rows x 3 columns]"
      ]
     },
     "execution_count": 12,
     "metadata": {},
     "output_type": "execute_result"
    }
   ],
   "source": [
    "df_output2 = df_games[[\"main_genre\", \"release_year\",\"id\"]]\n",
    "df_items2 = df_items[[\"playtime_hour\", \"item_id\"]]\n",
    "df_PlayTimeGenre_merge = pd.merge(df_items2, df_output2, left_on='item_id', right_on=\"id\")\n",
    "df_PlayTimeGenre_hour = df_PlayTimeGenre_merge.groupby([\"main_genre\", \"release_year\"])[\"playtime_hour\"].sum().reset_index()\n",
    "df_PlayTimeGenre_hour"
   ]
  },
  {
   "cell_type": "markdown",
   "metadata": {},
   "source": [
    "Guardamos el nuevo dataframe como un CSV"
   ]
  },
  {
   "cell_type": "code",
   "execution_count": 13,
   "metadata": {},
   "outputs": [
    {
     "name": "stdout",
     "output_type": "stream",
     "text": [
      "Se guardó el archivo ../Archivos Json/df_PlayTimeGenre_hour_final1.csv\n"
     ]
    }
   ],
   "source": [
    "archivo_limpio = \"../Archivos Json/df_PlayTimeGenre_hour_final1.csv\"\n",
    "df_PlayTimeGenre_hour.to_csv(archivo_limpio, index=False, encoding=\"utf-8\")\n",
    "print(f\"Se guardó el archivo {archivo_limpio}\") "
   ]
  },
  {
   "cell_type": "markdown",
   "metadata": {},
   "source": [
    "Guardamos el nuevo dataframe como archivo PARQUET"
   ]
  },
  {
   "cell_type": "code",
   "execution_count": 14,
   "metadata": {},
   "outputs": [
    {
     "name": "stdout",
     "output_type": "stream",
     "text": [
      "Se guardó el archivo ../Datasets/df_PlayTimeGenre_hour_final1.parquet\n"
     ]
    }
   ],
   "source": [
    "archivo_limpio2 = \"../Datasets/df_PlayTimeGenre_hour_final1.parquet\"\n",
    "df_PlayTimeGenre_hour.to_parquet(archivo_limpio2, index=False)\n",
    "print(f\"Se guardó el archivo {archivo_limpio2}\")"
   ]
  },
  {
   "cell_type": "markdown",
   "metadata": {},
   "source": [
    "**Funcion UserForGenre**\n",
    "\n",
    "En este caso nos piden una funcion que devuelva el usuario que acumula más horas jugadas para el género dado y una lista de la acumulación de horas jugadas por año, por lo que seran necesarias las columnas \"item_id\",\"user_id\" y \"year_posted\" de df_reviews, como tambien las columnas \"user_id\", \"item_id\", \"playtime_hour\" de df_items y \"id\" e \"main_genre\" de df_games"
   ]
  },
  {
   "cell_type": "markdown",
   "metadata": {},
   "source": [
    "Filtramos las columnas de df_reviews y de df_items necesarias"
   ]
  },
  {
   "cell_type": "code",
   "execution_count": 15,
   "metadata": {},
   "outputs": [],
   "source": [
    "data_reviews_subset = df_reviews[[\"item_id\",\"user_id\"]]"
   ]
  },
  {
   "cell_type": "code",
   "execution_count": 16,
   "metadata": {},
   "outputs": [],
   "source": [
    "data_items_subset = df_items[[\"user_id\",\"item_id\",\"playtime_hour\"]]"
   ]
  },
  {
   "cell_type": "markdown",
   "metadata": {},
   "source": [
    "Unimos las columnas que fueron previamente filtradas en un solo dataframe"
   ]
  },
  {
   "cell_type": "code",
   "execution_count": 17,
   "metadata": {},
   "outputs": [],
   "source": [
    "merged_data = data_items_subset.merge(data_reviews_subset, on=[\"user_id\", \"item_id\"], how=\"inner\")"
   ]
  },
  {
   "cell_type": "markdown",
   "metadata": {},
   "source": [
    "Al dataframe ya unido previamente le unimos las columnas necesarias de df_output"
   ]
  },
  {
   "cell_type": "code",
   "execution_count": 18,
   "metadata": {},
   "outputs": [],
   "source": [
    "final_merged_data = merged_data.merge(df_games[[\"id\",\"main_genre\",\"release_year\"]], left_on=\"item_id\", right_on=\"id\", how=\"inner\")"
   ]
  },
  {
   "cell_type": "markdown",
   "metadata": {},
   "source": [
    "Agrupamos apartir de \"user_id\", \"main_genre\" y \"year_posted\" y despues sumamos las horas de juegos acumuladas por estos grupos"
   ]
  },
  {
   "cell_type": "code",
   "execution_count": 19,
   "metadata": {},
   "outputs": [],
   "source": [
    "df_UsersForGenre = final_merged_data.groupby([\"user_id\",\"main_genre\",\"release_year\"])[\"playtime_hour\"].sum().reset_index()"
   ]
  },
  {
   "cell_type": "code",
   "execution_count": 20,
   "metadata": {},
   "outputs": [
    {
     "data": {
      "text/html": [
       "<div>\n",
       "<style scoped>\n",
       "    .dataframe tbody tr th:only-of-type {\n",
       "        vertical-align: middle;\n",
       "    }\n",
       "\n",
       "    .dataframe tbody tr th {\n",
       "        vertical-align: top;\n",
       "    }\n",
       "\n",
       "    .dataframe thead th {\n",
       "        text-align: right;\n",
       "    }\n",
       "</style>\n",
       "<table border=\"1\" class=\"dataframe\">\n",
       "  <thead>\n",
       "    <tr style=\"text-align: right;\">\n",
       "      <th></th>\n",
       "      <th>user_id</th>\n",
       "      <th>main_genre</th>\n",
       "      <th>release_year</th>\n",
       "      <th>playtime_hour</th>\n",
       "    </tr>\n",
       "  </thead>\n",
       "  <tbody>\n",
       "    <tr>\n",
       "      <th>0</th>\n",
       "      <td>--000--</td>\n",
       "      <td>Action</td>\n",
       "      <td>2009</td>\n",
       "      <td>49.150000</td>\n",
       "    </tr>\n",
       "    <tr>\n",
       "      <th>1</th>\n",
       "      <td>--ace--</td>\n",
       "      <td>Action</td>\n",
       "      <td>2011</td>\n",
       "      <td>21.150000</td>\n",
       "    </tr>\n",
       "    <tr>\n",
       "      <th>2</th>\n",
       "      <td>--ionex--</td>\n",
       "      <td>Action</td>\n",
       "      <td>2011</td>\n",
       "      <td>14.033333</td>\n",
       "    </tr>\n",
       "    <tr>\n",
       "      <th>3</th>\n",
       "      <td>-Azsael-</td>\n",
       "      <td>Indie</td>\n",
       "      <td>2015</td>\n",
       "      <td>198.150000</td>\n",
       "    </tr>\n",
       "    <tr>\n",
       "      <th>4</th>\n",
       "      <td>-Beave-</td>\n",
       "      <td>Action</td>\n",
       "      <td>2009</td>\n",
       "      <td>47.733333</td>\n",
       "    </tr>\n",
       "    <tr>\n",
       "      <th>...</th>\n",
       "      <td>...</td>\n",
       "      <td>...</td>\n",
       "      <td>...</td>\n",
       "      <td>...</td>\n",
       "    </tr>\n",
       "    <tr>\n",
       "      <th>21504</th>\n",
       "      <td>zyr0n1c</td>\n",
       "      <td>Action</td>\n",
       "      <td>2008</td>\n",
       "      <td>1.116667</td>\n",
       "    </tr>\n",
       "    <tr>\n",
       "      <th>21505</th>\n",
       "      <td>zyr0n1c</td>\n",
       "      <td>Action</td>\n",
       "      <td>2009</td>\n",
       "      <td>29.633333</td>\n",
       "    </tr>\n",
       "    <tr>\n",
       "      <th>21506</th>\n",
       "      <td>zyr0n1c</td>\n",
       "      <td>Action</td>\n",
       "      <td>2011</td>\n",
       "      <td>10.216667</td>\n",
       "    </tr>\n",
       "    <tr>\n",
       "      <th>21507</th>\n",
       "      <td>zyr0n1c</td>\n",
       "      <td>Action</td>\n",
       "      <td>2013</td>\n",
       "      <td>153.200000</td>\n",
       "    </tr>\n",
       "    <tr>\n",
       "      <th>21508</th>\n",
       "      <td>zyr0n1c</td>\n",
       "      <td>Action</td>\n",
       "      <td>2014</td>\n",
       "      <td>10.716667</td>\n",
       "    </tr>\n",
       "  </tbody>\n",
       "</table>\n",
       "<p>21509 rows × 4 columns</p>\n",
       "</div>"
      ],
      "text/plain": [
       "         user_id main_genre  release_year  playtime_hour\n",
       "0        --000--     Action          2009      49.150000\n",
       "1        --ace--     Action          2011      21.150000\n",
       "2      --ionex--     Action          2011      14.033333\n",
       "3       -Azsael-      Indie          2015     198.150000\n",
       "4        -Beave-     Action          2009      47.733333\n",
       "...          ...        ...           ...            ...\n",
       "21504    zyr0n1c     Action          2008       1.116667\n",
       "21505    zyr0n1c     Action          2009      29.633333\n",
       "21506    zyr0n1c     Action          2011      10.216667\n",
       "21507    zyr0n1c     Action          2013     153.200000\n",
       "21508    zyr0n1c     Action          2014      10.716667\n",
       "\n",
       "[21509 rows x 4 columns]"
      ]
     },
     "execution_count": 20,
     "metadata": {},
     "output_type": "execute_result"
    }
   ],
   "source": [
    "df_UsersForGenre"
   ]
  },
  {
   "cell_type": "code",
   "execution_count": 21,
   "metadata": {},
   "outputs": [
    {
     "data": {
      "text/html": [
       "<div>\n",
       "<style scoped>\n",
       "    .dataframe tbody tr th:only-of-type {\n",
       "        vertical-align: middle;\n",
       "    }\n",
       "\n",
       "    .dataframe tbody tr th {\n",
       "        vertical-align: top;\n",
       "    }\n",
       "\n",
       "    .dataframe thead th {\n",
       "        text-align: right;\n",
       "    }\n",
       "</style>\n",
       "<table border=\"1\" class=\"dataframe\">\n",
       "  <thead>\n",
       "    <tr style=\"text-align: right;\">\n",
       "      <th></th>\n",
       "      <th>user_id</th>\n",
       "      <th>main_genre</th>\n",
       "      <th>year_posted</th>\n",
       "      <th>playtime_hour</th>\n",
       "    </tr>\n",
       "  </thead>\n",
       "  <tbody>\n",
       "    <tr>\n",
       "      <th>0</th>\n",
       "      <td>--000--</td>\n",
       "      <td>Action</td>\n",
       "      <td>2014</td>\n",
       "      <td>49.150000</td>\n",
       "    </tr>\n",
       "    <tr>\n",
       "      <th>1</th>\n",
       "      <td>--ace--</td>\n",
       "      <td>Action</td>\n",
       "      <td>2014</td>\n",
       "      <td>21.150000</td>\n",
       "    </tr>\n",
       "    <tr>\n",
       "      <th>2</th>\n",
       "      <td>--ionex--</td>\n",
       "      <td>Action</td>\n",
       "      <td>2015</td>\n",
       "      <td>14.033333</td>\n",
       "    </tr>\n",
       "    <tr>\n",
       "      <th>3</th>\n",
       "      <td>-Azsael-</td>\n",
       "      <td>Indie</td>\n",
       "      <td>2013</td>\n",
       "      <td>198.150000</td>\n",
       "    </tr>\n",
       "    <tr>\n",
       "      <th>4</th>\n",
       "      <td>-Beave-</td>\n",
       "      <td>Action</td>\n",
       "      <td>2014</td>\n",
       "      <td>47.733333</td>\n",
       "    </tr>\n",
       "    <tr>\n",
       "      <th>...</th>\n",
       "      <td>...</td>\n",
       "      <td>...</td>\n",
       "      <td>...</td>\n",
       "      <td>...</td>\n",
       "    </tr>\n",
       "    <tr>\n",
       "      <th>19124</th>\n",
       "      <td>zvanik</td>\n",
       "      <td>Action</td>\n",
       "      <td>2015</td>\n",
       "      <td>382.233333</td>\n",
       "    </tr>\n",
       "    <tr>\n",
       "      <th>19125</th>\n",
       "      <td>zynxgameth</td>\n",
       "      <td>Action</td>\n",
       "      <td>2013</td>\n",
       "      <td>64.100000</td>\n",
       "    </tr>\n",
       "    <tr>\n",
       "      <th>19126</th>\n",
       "      <td>zyr0n1c</td>\n",
       "      <td>Action</td>\n",
       "      <td>2013</td>\n",
       "      <td>40.966667</td>\n",
       "    </tr>\n",
       "    <tr>\n",
       "      <th>19127</th>\n",
       "      <td>zyr0n1c</td>\n",
       "      <td>Action</td>\n",
       "      <td>2014</td>\n",
       "      <td>10.716667</td>\n",
       "    </tr>\n",
       "    <tr>\n",
       "      <th>19128</th>\n",
       "      <td>zyr0n1c</td>\n",
       "      <td>Action</td>\n",
       "      <td>2015</td>\n",
       "      <td>153.200000</td>\n",
       "    </tr>\n",
       "  </tbody>\n",
       "</table>\n",
       "<p>19129 rows × 4 columns</p>\n",
       "</div>"
      ],
      "text/plain": [
       "          user_id main_genre  year_posted  playtime_hour\n",
       "0         --000--     Action         2014      49.150000\n",
       "1         --ace--     Action         2014      21.150000\n",
       "2       --ionex--     Action         2015      14.033333\n",
       "3        -Azsael-      Indie         2013     198.150000\n",
       "4         -Beave-     Action         2014      47.733333\n",
       "...           ...        ...          ...            ...\n",
       "19124      zvanik     Action         2015     382.233333\n",
       "19125  zynxgameth     Action         2013      64.100000\n",
       "19126     zyr0n1c     Action         2013      40.966667\n",
       "19127     zyr0n1c     Action         2014      10.716667\n",
       "19128     zyr0n1c     Action         2015     153.200000\n",
       "\n",
       "[19129 rows x 4 columns]"
      ]
     },
     "execution_count": 21,
     "metadata": {},
     "output_type": "execute_result"
    }
   ],
   "source": [
    "data_reviews_subset2 = df_reviews[[\"item_id\",\"user_id\",\"year_posted\"]]\n",
    "data_items_subset2 = df_items[[\"user_id\",\"item_id\",\"playtime_hour\"]]\n",
    "merged_data2 = data_items_subset2.merge(data_reviews_subset2, on=[\"user_id\", \"item_id\"], how=\"inner\")\n",
    "final_merged_data2 = merged_data2.merge(df_games[[\"id\",\"main_genre\"]], left_on=\"item_id\", right_on=\"id\", how=\"inner\")\n",
    "df_UsersForGenre2 = final_merged_data2.groupby([\"user_id\",\"main_genre\",\"year_posted\"])[\"playtime_hour\"].sum().reset_index()\n",
    "df_UsersForGenre2"
   ]
  },
  {
   "cell_type": "code",
   "execution_count": 22,
   "metadata": {},
   "outputs": [
    {
     "name": "stdout",
     "output_type": "stream",
     "text": [
      "Se guardó el archivo ../Archivos Json/df_UsersForGenre3_final.csv\n"
     ]
    }
   ],
   "source": [
    "archivo_limpio001 = \"../Archivos Json/df_UsersForGenre3_final.csv\"\n",
    "df_UsersForGenre2.to_csv(archivo_limpio001, index=False, encoding=\"utf-8\")\n",
    "print(f\"Se guardó el archivo {archivo_limpio001}\") "
   ]
  },
  {
   "cell_type": "markdown",
   "metadata": {},
   "source": [
    "Guardamos el nuevo dataframe como un CSV"
   ]
  },
  {
   "cell_type": "code",
   "execution_count": 23,
   "metadata": {},
   "outputs": [
    {
     "name": "stdout",
     "output_type": "stream",
     "text": [
      "Se guardó el archivo ../Archivos Json/df_UsersForGenre2_final.csv\n"
     ]
    }
   ],
   "source": [
    "archivo_limpio00 = \"../Archivos Json/df_UsersForGenre2_final.csv\"\n",
    "df_UsersForGenre.to_csv(archivo_limpio00, index=False, encoding=\"utf-8\")\n",
    "print(f\"Se guardó el archivo {archivo_limpio00}\") "
   ]
  },
  {
   "cell_type": "markdown",
   "metadata": {},
   "source": [
    "Guardamos el nuevo dataframe como archivo PARQUET"
   ]
  },
  {
   "cell_type": "code",
   "execution_count": 24,
   "metadata": {},
   "outputs": [
    {
     "name": "stdout",
     "output_type": "stream",
     "text": [
      "Se guardó el archivo ../Datasets/df_UsersForGenre2_final.parquet\n"
     ]
    }
   ],
   "source": [
    "archivo_limpio000 = \"../Datasets/df_UsersForGenre2_final.parquet\"\n",
    "df_UsersForGenre.to_parquet(archivo_limpio000, index=False)\n",
    "print(f\"Se guardó el archivo {archivo_limpio000}\")"
   ]
  },
  {
   "cell_type": "markdown",
   "metadata": {},
   "source": [
    "**Funcion UsersRecommend**\n",
    "\n",
    "En este caso nos piden una funcion que devuelve el top 3 de juegos MÁS recomendados por usuarios para el año dado, por lo que seran necesarias la columna id y app_name de df_games y las columnas item_id, recommend y year_posted de df_reviews"
   ]
  },
  {
   "cell_type": "code",
   "execution_count": 25,
   "metadata": {},
   "outputs": [
    {
     "data": {
      "text/html": [
       "<div>\n",
       "<style scoped>\n",
       "    .dataframe tbody tr th:only-of-type {\n",
       "        vertical-align: middle;\n",
       "    }\n",
       "\n",
       "    .dataframe tbody tr th {\n",
       "        vertical-align: top;\n",
       "    }\n",
       "\n",
       "    .dataframe thead th {\n",
       "        text-align: right;\n",
       "    }\n",
       "</style>\n",
       "<table border=\"1\" class=\"dataframe\">\n",
       "  <thead>\n",
       "    <tr style=\"text-align: right;\">\n",
       "      <th></th>\n",
       "      <th>year_posted</th>\n",
       "      <th>item_id</th>\n",
       "      <th>app_name</th>\n",
       "      <th>recommendation_count</th>\n",
       "    </tr>\n",
       "  </thead>\n",
       "  <tbody>\n",
       "    <tr>\n",
       "      <th>0</th>\n",
       "      <td>2010</td>\n",
       "      <td>440</td>\n",
       "      <td>Team Fortress 2</td>\n",
       "      <td>10</td>\n",
       "    </tr>\n",
       "    <tr>\n",
       "      <th>1</th>\n",
       "      <td>2010</td>\n",
       "      <td>1250</td>\n",
       "      <td>Killing Floor</td>\n",
       "      <td>6</td>\n",
       "    </tr>\n",
       "    <tr>\n",
       "      <th>2</th>\n",
       "      <td>2010</td>\n",
       "      <td>630</td>\n",
       "      <td>Alien Swarm</td>\n",
       "      <td>4</td>\n",
       "    </tr>\n",
       "    <tr>\n",
       "      <th>3</th>\n",
       "      <td>2011</td>\n",
       "      <td>440</td>\n",
       "      <td>Team Fortress 2</td>\n",
       "      <td>72</td>\n",
       "    </tr>\n",
       "    <tr>\n",
       "      <th>4</th>\n",
       "      <td>2011</td>\n",
       "      <td>620</td>\n",
       "      <td>Portal 2</td>\n",
       "      <td>24</td>\n",
       "    </tr>\n",
       "    <tr>\n",
       "      <th>5</th>\n",
       "      <td>2011</td>\n",
       "      <td>105600</td>\n",
       "      <td>Terraria</td>\n",
       "      <td>20</td>\n",
       "    </tr>\n",
       "    <tr>\n",
       "      <th>6</th>\n",
       "      <td>2012</td>\n",
       "      <td>440</td>\n",
       "      <td>Team Fortress 2</td>\n",
       "      <td>234</td>\n",
       "    </tr>\n",
       "    <tr>\n",
       "      <th>7</th>\n",
       "      <td>2012</td>\n",
       "      <td>4000</td>\n",
       "      <td>Garry's Mod</td>\n",
       "      <td>36</td>\n",
       "    </tr>\n",
       "    <tr>\n",
       "      <th>8</th>\n",
       "      <td>2012</td>\n",
       "      <td>105600</td>\n",
       "      <td>Terraria</td>\n",
       "      <td>36</td>\n",
       "    </tr>\n",
       "    <tr>\n",
       "      <th>9</th>\n",
       "      <td>2013</td>\n",
       "      <td>440</td>\n",
       "      <td>Team Fortress 2</td>\n",
       "      <td>938</td>\n",
       "    </tr>\n",
       "    <tr>\n",
       "      <th>10</th>\n",
       "      <td>2013</td>\n",
       "      <td>730</td>\n",
       "      <td>Counter-Strike: Global Offensive</td>\n",
       "      <td>708</td>\n",
       "    </tr>\n",
       "    <tr>\n",
       "      <th>11</th>\n",
       "      <td>2013</td>\n",
       "      <td>4000</td>\n",
       "      <td>Garry's Mod</td>\n",
       "      <td>423</td>\n",
       "    </tr>\n",
       "    <tr>\n",
       "      <th>12</th>\n",
       "      <td>2014</td>\n",
       "      <td>440</td>\n",
       "      <td>Team Fortress 2</td>\n",
       "      <td>1397</td>\n",
       "    </tr>\n",
       "    <tr>\n",
       "      <th>13</th>\n",
       "      <td>2014</td>\n",
       "      <td>730</td>\n",
       "      <td>Counter-Strike: Global Offensive</td>\n",
       "      <td>932</td>\n",
       "    </tr>\n",
       "    <tr>\n",
       "      <th>14</th>\n",
       "      <td>2014</td>\n",
       "      <td>4000</td>\n",
       "      <td>Garry's Mod</td>\n",
       "      <td>667</td>\n",
       "    </tr>\n",
       "    <tr>\n",
       "      <th>15</th>\n",
       "      <td>2015</td>\n",
       "      <td>730</td>\n",
       "      <td>Counter-Strike: Global Offensive</td>\n",
       "      <td>1305</td>\n",
       "    </tr>\n",
       "    <tr>\n",
       "      <th>16</th>\n",
       "      <td>2015</td>\n",
       "      <td>440</td>\n",
       "      <td>Team Fortress 2</td>\n",
       "      <td>582</td>\n",
       "    </tr>\n",
       "    <tr>\n",
       "      <th>17</th>\n",
       "      <td>2015</td>\n",
       "      <td>4000</td>\n",
       "      <td>Garry's Mod</td>\n",
       "      <td>294</td>\n",
       "    </tr>\n",
       "  </tbody>\n",
       "</table>\n",
       "</div>"
      ],
      "text/plain": [
       "    year_posted  item_id                          app_name  \\\n",
       "0          2010      440                   Team Fortress 2   \n",
       "1          2010     1250                     Killing Floor   \n",
       "2          2010      630                       Alien Swarm   \n",
       "3          2011      440                   Team Fortress 2   \n",
       "4          2011      620                          Portal 2   \n",
       "5          2011   105600                          Terraria   \n",
       "6          2012      440                   Team Fortress 2   \n",
       "7          2012     4000                       Garry's Mod   \n",
       "8          2012   105600                          Terraria   \n",
       "9          2013      440                   Team Fortress 2   \n",
       "10         2013      730  Counter-Strike: Global Offensive   \n",
       "11         2013     4000                       Garry's Mod   \n",
       "12         2014      440                   Team Fortress 2   \n",
       "13         2014      730  Counter-Strike: Global Offensive   \n",
       "14         2014     4000                       Garry's Mod   \n",
       "15         2015      730  Counter-Strike: Global Offensive   \n",
       "16         2015      440                   Team Fortress 2   \n",
       "17         2015     4000                       Garry's Mod   \n",
       "\n",
       "    recommendation_count  \n",
       "0                     10  \n",
       "1                      6  \n",
       "2                      4  \n",
       "3                     72  \n",
       "4                     24  \n",
       "5                     20  \n",
       "6                    234  \n",
       "7                     36  \n",
       "8                     36  \n",
       "9                    938  \n",
       "10                   708  \n",
       "11                   423  \n",
       "12                  1397  \n",
       "13                   932  \n",
       "14                   667  \n",
       "15                  1305  \n",
       "16                   582  \n",
       "17                   294  "
      ]
     },
     "execution_count": 25,
     "metadata": {},
     "output_type": "execute_result"
    }
   ],
   "source": [
    "df_output3_ = df_games[[\"id\", \"app_name\"]].drop_duplicates()\n",
    "df_reviews2_ = df_reviews[[\"item_id\", \"recommend\", \"year_posted\",\"sentiment_analysis\"]]\n",
    "df_reviews_merged_ = pd.merge(df_reviews2_, df_output3_, left_on=\"item_id\", right_on=\"id\")\n",
    "positive_reviews_ = df_reviews_merged_[(df_reviews_merged_[\"recommend\"]== True) & (df_reviews_merged_[\"sentiment_analysis\"] >=1)]\n",
    "grouped_reviews_ = positive_reviews_.groupby([\"year_posted\", \"item_id\", \"app_name\"]).size().reset_index(name=\"recommendation_count\")\n",
    "df_UsersRecommend_ = (\n",
    "    grouped_reviews_.sort_values(by=[\"year_posted\", \"recommendation_count\"], ascending=[True, False])\n",
    "                   .groupby(\"year_posted\")\n",
    "                   .head(3)\n",
    "                   .reset_index(drop=True)\n",
    ")\n",
    "df_UsersRecommend_"
   ]
  },
  {
   "cell_type": "markdown",
   "metadata": {},
   "source": [
    "Guardamos el nuevo dataframe como un CSV"
   ]
  },
  {
   "cell_type": "code",
   "execution_count": 26,
   "metadata": {},
   "outputs": [
    {
     "name": "stdout",
     "output_type": "stream",
     "text": [
      "Se guardó el archivo ../Archivos Json/df_UsersRecommend2_final.csv\n"
     ]
    }
   ],
   "source": [
    "archivo_limpio5 = \"../Archivos Json/df_UsersRecommend2_final.csv\"\n",
    "df_UsersRecommend_.to_csv(archivo_limpio5, index=False, encoding=\"utf-8\")\n",
    "print(f\"Se guardó el archivo {archivo_limpio5}\") "
   ]
  },
  {
   "cell_type": "markdown",
   "metadata": {},
   "source": [
    "Guardamos el nuevo dataframe como archivo PARQUET"
   ]
  },
  {
   "cell_type": "code",
   "execution_count": 27,
   "metadata": {},
   "outputs": [
    {
     "name": "stdout",
     "output_type": "stream",
     "text": [
      "Se guardó el archivo ../Datasets/df_UsersRecommend2_final.parquet\n"
     ]
    }
   ],
   "source": [
    "archivo_limpio6 = \"../Datasets/df_UsersRecommend2_final.parquet\"\n",
    "df_UsersRecommend_.to_parquet(archivo_limpio6, index=False)\n",
    "print(f\"Se guardó el archivo {archivo_limpio6}\")"
   ]
  },
  {
   "cell_type": "markdown",
   "metadata": {},
   "source": [
    "**Funcion UsersWorstDeveloper**\n",
    "\n",
    "En este caso nos piden una funcion que devuelve el top 3 de desarrolladoras con juegos MENOS recomendados por usuarios para el año dado. (reviews.recommend = False y comentarios negativos). Se utilizaran las columnas \"id\" y \"developer\" del df_games, tambien las columnas \"item_id\", \"recommend\", \"year_posted\" y \"sentiment_analysis\"del df_reviews"
   ]
  },
  {
   "cell_type": "code",
   "execution_count": 28,
   "metadata": {},
   "outputs": [
    {
     "data": {
      "text/html": [
       "<div>\n",
       "<style scoped>\n",
       "    .dataframe tbody tr th:only-of-type {\n",
       "        vertical-align: middle;\n",
       "    }\n",
       "\n",
       "    .dataframe tbody tr th {\n",
       "        vertical-align: top;\n",
       "    }\n",
       "\n",
       "    .dataframe thead th {\n",
       "        text-align: right;\n",
       "    }\n",
       "</style>\n",
       "<table border=\"1\" class=\"dataframe\">\n",
       "  <thead>\n",
       "    <tr style=\"text-align: right;\">\n",
       "      <th></th>\n",
       "      <th>year_posted</th>\n",
       "      <th>item_id</th>\n",
       "      <th>developer</th>\n",
       "      <th>recommendation_count</th>\n",
       "    </tr>\n",
       "  </thead>\n",
       "  <tbody>\n",
       "    <tr>\n",
       "      <th>0</th>\n",
       "      <td>2011</td>\n",
       "      <td>440</td>\n",
       "      <td>Valve</td>\n",
       "      <td>1</td>\n",
       "    </tr>\n",
       "    <tr>\n",
       "      <th>1</th>\n",
       "      <td>2011</td>\n",
       "      <td>18700</td>\n",
       "      <td>Broken Rules</td>\n",
       "      <td>1</td>\n",
       "    </tr>\n",
       "    <tr>\n",
       "      <th>2</th>\n",
       "      <td>2011</td>\n",
       "      <td>33460</td>\n",
       "      <td>Ubisoft Montpellier</td>\n",
       "      <td>1</td>\n",
       "    </tr>\n",
       "    <tr>\n",
       "      <th>3</th>\n",
       "      <td>2012</td>\n",
       "      <td>440</td>\n",
       "      <td>Valve</td>\n",
       "      <td>1</td>\n",
       "    </tr>\n",
       "    <tr>\n",
       "      <th>4</th>\n",
       "      <td>2012</td>\n",
       "      <td>42920</td>\n",
       "      <td>NeoCoreGames</td>\n",
       "      <td>1</td>\n",
       "    </tr>\n",
       "    <tr>\n",
       "      <th>5</th>\n",
       "      <td>2012</td>\n",
       "      <td>55110</td>\n",
       "      <td>Volition</td>\n",
       "      <td>1</td>\n",
       "    </tr>\n",
       "    <tr>\n",
       "      <th>6</th>\n",
       "      <td>2013</td>\n",
       "      <td>275850</td>\n",
       "      <td>Hello Games</td>\n",
       "      <td>52</td>\n",
       "    </tr>\n",
       "    <tr>\n",
       "      <th>7</th>\n",
       "      <td>2013</td>\n",
       "      <td>730</td>\n",
       "      <td>Valve</td>\n",
       "      <td>32</td>\n",
       "    </tr>\n",
       "    <tr>\n",
       "      <th>8</th>\n",
       "      <td>2013</td>\n",
       "      <td>440</td>\n",
       "      <td>Valve</td>\n",
       "      <td>25</td>\n",
       "    </tr>\n",
       "    <tr>\n",
       "      <th>9</th>\n",
       "      <td>2014</td>\n",
       "      <td>221100</td>\n",
       "      <td>Bohemia Interactive</td>\n",
       "      <td>19</td>\n",
       "    </tr>\n",
       "    <tr>\n",
       "      <th>10</th>\n",
       "      <td>2014</td>\n",
       "      <td>730</td>\n",
       "      <td>Valve</td>\n",
       "      <td>15</td>\n",
       "    </tr>\n",
       "    <tr>\n",
       "      <th>11</th>\n",
       "      <td>2014</td>\n",
       "      <td>104900</td>\n",
       "      <td>Trek Industries, Inc</td>\n",
       "      <td>14</td>\n",
       "    </tr>\n",
       "    <tr>\n",
       "      <th>12</th>\n",
       "      <td>2015</td>\n",
       "      <td>730</td>\n",
       "      <td>Valve</td>\n",
       "      <td>45</td>\n",
       "    </tr>\n",
       "    <tr>\n",
       "      <th>13</th>\n",
       "      <td>2015</td>\n",
       "      <td>221100</td>\n",
       "      <td>Bohemia Interactive</td>\n",
       "      <td>29</td>\n",
       "    </tr>\n",
       "    <tr>\n",
       "      <th>14</th>\n",
       "      <td>2015</td>\n",
       "      <td>252490</td>\n",
       "      <td>Facepunch Studios</td>\n",
       "      <td>19</td>\n",
       "    </tr>\n",
       "  </tbody>\n",
       "</table>\n",
       "</div>"
      ],
      "text/plain": [
       "    year_posted  item_id             developer  recommendation_count\n",
       "0          2011      440                 Valve                     1\n",
       "1          2011    18700          Broken Rules                     1\n",
       "2          2011    33460   Ubisoft Montpellier                     1\n",
       "3          2012      440                 Valve                     1\n",
       "4          2012    42920          NeoCoreGames                     1\n",
       "5          2012    55110              Volition                     1\n",
       "6          2013   275850           Hello Games                    52\n",
       "7          2013      730                 Valve                    32\n",
       "8          2013      440                 Valve                    25\n",
       "9          2014   221100   Bohemia Interactive                    19\n",
       "10         2014      730                 Valve                    15\n",
       "11         2014   104900  Trek Industries, Inc                    14\n",
       "12         2015      730                 Valve                    45\n",
       "13         2015   221100   Bohemia Interactive                    29\n",
       "14         2015   252490     Facepunch Studios                    19"
      ]
     },
     "execution_count": 28,
     "metadata": {},
     "output_type": "execute_result"
    }
   ],
   "source": [
    "df_output4 = df_games[[\"id\", \"developer\"]].drop_duplicates()\n",
    "df_reviews4 = df_reviews[[\"item_id\", \"recommend\", \"year_posted\",\"sentiment_analysis\"]]\n",
    "df_reviews_merged4 = pd.merge(df_reviews4, df_output4, left_on=\"item_id\", right_on=\"id\")\n",
    "negative_reviews4 = df_reviews_merged4[(df_reviews_merged4[\"recommend\"]== False) & (df_reviews_merged4[\"sentiment_analysis\"] == 0)]\n",
    "grouped_reviews4 = negative_reviews4.groupby([\"year_posted\", \"item_id\", \"developer\"]).size().reset_index(name=\"recommendation_count\")\n",
    "df_UsersWorstDeveloper = (\n",
    "    grouped_reviews4.sort_values(by=[\"year_posted\", \"recommendation_count\"], ascending=[True, False])\n",
    "                   .groupby(\"year_posted\")\n",
    "                   .head(3)\n",
    "                   .reset_index(drop=True)\n",
    ")\n",
    "df_UsersWorstDeveloper"
   ]
  },
  {
   "cell_type": "code",
   "execution_count": 29,
   "metadata": {},
   "outputs": [
    {
     "data": {
      "text/html": [
       "<div>\n",
       "<style scoped>\n",
       "    .dataframe tbody tr th:only-of-type {\n",
       "        vertical-align: middle;\n",
       "    }\n",
       "\n",
       "    .dataframe tbody tr th {\n",
       "        vertical-align: top;\n",
       "    }\n",
       "\n",
       "    .dataframe thead th {\n",
       "        text-align: right;\n",
       "    }\n",
       "</style>\n",
       "<table border=\"1\" class=\"dataframe\">\n",
       "  <thead>\n",
       "    <tr style=\"text-align: right;\">\n",
       "      <th></th>\n",
       "      <th>year_posted</th>\n",
       "      <th>developer</th>\n",
       "      <th>recommendation_count</th>\n",
       "    </tr>\n",
       "  </thead>\n",
       "  <tbody>\n",
       "    <tr>\n",
       "      <th>0</th>\n",
       "      <td>2011</td>\n",
       "      <td>Broken Rules</td>\n",
       "      <td>1</td>\n",
       "    </tr>\n",
       "    <tr>\n",
       "      <th>1</th>\n",
       "      <td>2011</td>\n",
       "      <td>Ubisoft Montpellier</td>\n",
       "      <td>1</td>\n",
       "    </tr>\n",
       "    <tr>\n",
       "      <th>2</th>\n",
       "      <td>2011</td>\n",
       "      <td>Valve</td>\n",
       "      <td>1</td>\n",
       "    </tr>\n",
       "    <tr>\n",
       "      <th>3</th>\n",
       "      <td>2012</td>\n",
       "      <td>NeoCoreGames</td>\n",
       "      <td>1</td>\n",
       "    </tr>\n",
       "    <tr>\n",
       "      <th>4</th>\n",
       "      <td>2012</td>\n",
       "      <td>Valve</td>\n",
       "      <td>1</td>\n",
       "    </tr>\n",
       "    <tr>\n",
       "      <th>5</th>\n",
       "      <td>2012</td>\n",
       "      <td>Volition</td>\n",
       "      <td>1</td>\n",
       "    </tr>\n",
       "    <tr>\n",
       "      <th>6</th>\n",
       "      <td>2013</td>\n",
       "      <td>Hello Games</td>\n",
       "      <td>52</td>\n",
       "    </tr>\n",
       "    <tr>\n",
       "      <th>7</th>\n",
       "      <td>2013</td>\n",
       "      <td>Valve</td>\n",
       "      <td>57</td>\n",
       "    </tr>\n",
       "    <tr>\n",
       "      <th>8</th>\n",
       "      <td>2014</td>\n",
       "      <td>Bohemia Interactive</td>\n",
       "      <td>19</td>\n",
       "    </tr>\n",
       "    <tr>\n",
       "      <th>9</th>\n",
       "      <td>2014</td>\n",
       "      <td>Trek Industries, Inc</td>\n",
       "      <td>14</td>\n",
       "    </tr>\n",
       "    <tr>\n",
       "      <th>10</th>\n",
       "      <td>2014</td>\n",
       "      <td>Valve</td>\n",
       "      <td>15</td>\n",
       "    </tr>\n",
       "    <tr>\n",
       "      <th>11</th>\n",
       "      <td>2015</td>\n",
       "      <td>Bohemia Interactive</td>\n",
       "      <td>29</td>\n",
       "    </tr>\n",
       "    <tr>\n",
       "      <th>12</th>\n",
       "      <td>2015</td>\n",
       "      <td>Facepunch Studios</td>\n",
       "      <td>19</td>\n",
       "    </tr>\n",
       "    <tr>\n",
       "      <th>13</th>\n",
       "      <td>2015</td>\n",
       "      <td>Valve</td>\n",
       "      <td>45</td>\n",
       "    </tr>\n",
       "  </tbody>\n",
       "</table>\n",
       "</div>"
      ],
      "text/plain": [
       "    year_posted             developer  recommendation_count\n",
       "0          2011          Broken Rules                     1\n",
       "1          2011   Ubisoft Montpellier                     1\n",
       "2          2011                 Valve                     1\n",
       "3          2012          NeoCoreGames                     1\n",
       "4          2012                 Valve                     1\n",
       "5          2012              Volition                     1\n",
       "6          2013           Hello Games                    52\n",
       "7          2013                 Valve                    57\n",
       "8          2014   Bohemia Interactive                    19\n",
       "9          2014  Trek Industries, Inc                    14\n",
       "10         2014                 Valve                    15\n",
       "11         2015   Bohemia Interactive                    29\n",
       "12         2015     Facepunch Studios                    19\n",
       "13         2015                 Valve                    45"
      ]
     },
     "execution_count": 29,
     "metadata": {},
     "output_type": "execute_result"
    }
   ],
   "source": [
    "df_UsersWorstDeveloper_final = df_UsersWorstDeveloper.groupby([\"year_posted\",\"developer\"], as_index=False)[\"recommendation_count\"].sum()\n",
    "df_UsersWorstDeveloper_final"
   ]
  },
  {
   "cell_type": "markdown",
   "metadata": {},
   "source": [
    "Guardamos el nuevo dataframe como un CSV"
   ]
  },
  {
   "cell_type": "code",
   "execution_count": 31,
   "metadata": {},
   "outputs": [
    {
     "name": "stdout",
     "output_type": "stream",
     "text": [
      "Se guardó el archivo ../Archivos Json/df_UsersWorstDeveloper_final1.csv\n"
     ]
    }
   ],
   "source": [
    "archivo_limpio7 = \"../Archivos Json/df_UsersWorstDeveloper_final1.csv\"\n",
    "df_UsersWorstDeveloper_final.to_csv(archivo_limpio7, index=False, encoding=\"utf-8\")\n",
    "print(f\"Se guardó el archivo {archivo_limpio7}\") "
   ]
  },
  {
   "cell_type": "markdown",
   "metadata": {},
   "source": [
    "Guardamos el nuevo dataframe como archivo PARQUET"
   ]
  },
  {
   "cell_type": "code",
   "execution_count": 32,
   "metadata": {},
   "outputs": [
    {
     "name": "stdout",
     "output_type": "stream",
     "text": [
      "Se guardó el archivo ../Datasets/df_UserWorstDeveloper_final1.parquet\n"
     ]
    }
   ],
   "source": [
    "archivo_limpio8 = \"../Datasets/df_UserWorstDeveloper_final1.parquet\"\n",
    "df_UsersWorstDeveloper.to_parquet(archivo_limpio8, index=False)\n",
    "print(f\"Se guardó el archivo {archivo_limpio8}\")"
   ]
  },
  {
   "cell_type": "markdown",
   "metadata": {},
   "source": [
    "**Funcion Sentiment_analysis**\n",
    "\n",
    "En este caso nos piden una funcion que devuelve un diccionario con el nombre de la desarrolladora como llave y una lista con la cantidad total de registros de reseñas de usuarios que se encuentren categorizados con un análisis de sentimiento como valor. Se utilizan todas las columnas de df_reviews y las columnas \"id\",\"app_name\" y \"developer\" de df_output para finalmente quedarnos con las columnas developer y sentiment_analysis y sobre estas columnas hacer un conteo del analisis de sentimiento"
   ]
  },
  {
   "cell_type": "code",
   "execution_count": 33,
   "metadata": {},
   "outputs": [
    {
     "data": {
      "text/html": [
       "<div>\n",
       "<style scoped>\n",
       "    .dataframe tbody tr th:only-of-type {\n",
       "        vertical-align: middle;\n",
       "    }\n",
       "\n",
       "    .dataframe tbody tr th {\n",
       "        vertical-align: top;\n",
       "    }\n",
       "\n",
       "    .dataframe thead th {\n",
       "        text-align: right;\n",
       "    }\n",
       "</style>\n",
       "<table border=\"1\" class=\"dataframe\">\n",
       "  <thead>\n",
       "    <tr style=\"text-align: right;\">\n",
       "      <th></th>\n",
       "      <th>developer</th>\n",
       "      <th>sentiment_analysis</th>\n",
       "      <th>sentiment_analysis_count</th>\n",
       "    </tr>\n",
       "  </thead>\n",
       "  <tbody>\n",
       "    <tr>\n",
       "      <th>0</th>\n",
       "      <td>07th Expansion</td>\n",
       "      <td>0</td>\n",
       "      <td>1</td>\n",
       "    </tr>\n",
       "    <tr>\n",
       "      <th>1</th>\n",
       "      <td>07th Expansion</td>\n",
       "      <td>1</td>\n",
       "      <td>2</td>\n",
       "    </tr>\n",
       "    <tr>\n",
       "      <th>2</th>\n",
       "      <td>10th Art Studio,Adventure Productions</td>\n",
       "      <td>0</td>\n",
       "      <td>1</td>\n",
       "    </tr>\n",
       "    <tr>\n",
       "      <th>3</th>\n",
       "      <td>10th Art Studio,Adventure Productions</td>\n",
       "      <td>1</td>\n",
       "      <td>1</td>\n",
       "    </tr>\n",
       "    <tr>\n",
       "      <th>4</th>\n",
       "      <td>10tons Ltd</td>\n",
       "      <td>1</td>\n",
       "      <td>1</td>\n",
       "    </tr>\n",
       "    <tr>\n",
       "      <th>...</th>\n",
       "      <td>...</td>\n",
       "      <td>...</td>\n",
       "      <td>...</td>\n",
       "    </tr>\n",
       "    <tr>\n",
       "      <th>3977</th>\n",
       "      <td>インレ,Inre</td>\n",
       "      <td>1</td>\n",
       "      <td>4</td>\n",
       "    </tr>\n",
       "    <tr>\n",
       "      <th>3978</th>\n",
       "      <td>橘子班</td>\n",
       "      <td>0</td>\n",
       "      <td>1</td>\n",
       "    </tr>\n",
       "    <tr>\n",
       "      <th>3979</th>\n",
       "      <td>橘子班</td>\n",
       "      <td>1</td>\n",
       "      <td>2</td>\n",
       "    </tr>\n",
       "    <tr>\n",
       "      <th>3980</th>\n",
       "      <td>橘子班</td>\n",
       "      <td>2</td>\n",
       "      <td>1</td>\n",
       "    </tr>\n",
       "    <tr>\n",
       "      <th>3981</th>\n",
       "      <td>高考恋爱委员会,橘子班</td>\n",
       "      <td>1</td>\n",
       "      <td>2</td>\n",
       "    </tr>\n",
       "  </tbody>\n",
       "</table>\n",
       "<p>3982 rows × 3 columns</p>\n",
       "</div>"
      ],
      "text/plain": [
       "                                  developer  sentiment_analysis  \\\n",
       "0                            07th Expansion                   0   \n",
       "1                            07th Expansion                   1   \n",
       "2     10th Art Studio,Adventure Productions                   0   \n",
       "3     10th Art Studio,Adventure Productions                   1   \n",
       "4                                10tons Ltd                   1   \n",
       "...                                     ...                 ...   \n",
       "3977                               インレ,Inre                   1   \n",
       "3978                                    橘子班                   0   \n",
       "3979                                    橘子班                   1   \n",
       "3980                                    橘子班                   2   \n",
       "3981                            高考恋爱委员会,橘子班                   1   \n",
       "\n",
       "      sentiment_analysis_count  \n",
       "0                            1  \n",
       "1                            2  \n",
       "2                            1  \n",
       "3                            1  \n",
       "4                            1  \n",
       "...                        ...  \n",
       "3977                         4  \n",
       "3978                         1  \n",
       "3979                         2  \n",
       "3980                         1  \n",
       "3981                         2  \n",
       "\n",
       "[3982 rows x 3 columns]"
      ]
     },
     "execution_count": 33,
     "metadata": {},
     "output_type": "execute_result"
    }
   ],
   "source": [
    "df_reviews0 = df_reviews[[\"user_id\", \"item_id\",\"recommend\",\"year_posted\",\"sentiment_analysis\"]]\n",
    "df_reviews1 = pd.merge(df_reviews0, df_games[[\"id\",\"app_name\",\"developer\"]], left_on=\"item_id\", right_on=\"id\")\n",
    "df_reviews02 = df_reviews1[[\"user_id\",\"app_name\",\"developer\",\"recommend\",\"year_posted\",\"sentiment_analysis\"]]\n",
    "df_Sentiment_analysis = df_reviews02.groupby([\"developer\",\"sentiment_analysis\"]).size().reset_index(name=\"sentiment_analysis_count\")\n",
    "df_Sentiment_analysis"
   ]
  },
  {
   "cell_type": "markdown",
   "metadata": {},
   "source": [
    "Guardamos el nuevo dataframe como un CSV"
   ]
  },
  {
   "cell_type": "code",
   "execution_count": 35,
   "metadata": {},
   "outputs": [
    {
     "name": "stdout",
     "output_type": "stream",
     "text": [
      "Se guardó el archivo ../Archivos Json/df_Sentiment_analysis_final.csv\n"
     ]
    }
   ],
   "source": [
    "archivo_limpio10 = \"../Archivos Json/df_Sentiment_analysis_final.csv\"\n",
    "df_Sentiment_analysis.to_csv(archivo_limpio10, index=False, encoding=\"utf-8\")\n",
    "print(f\"Se guardó el archivo {archivo_limpio10}\") "
   ]
  },
  {
   "cell_type": "markdown",
   "metadata": {},
   "source": [
    "Guardamos el nuevo dataframe como archivo PARQUET"
   ]
  },
  {
   "cell_type": "code",
   "execution_count": 36,
   "metadata": {},
   "outputs": [
    {
     "name": "stdout",
     "output_type": "stream",
     "text": [
      "Se guardó el archivo ../Datasets/df_Sentiment_analysis_final.parquet\n"
     ]
    }
   ],
   "source": [
    "archivo_limpio11 = \"../Datasets/df_Sentiment_analysis_final.parquet\"\n",
    "df_Sentiment_analysis.to_parquet(archivo_limpio11, index=False)\n",
    "print(f\"Se guardó el archivo {archivo_limpio11}\")"
   ]
  }
 ],
 "metadata": {
  "kernelspec": {
   "display_name": "base",
   "language": "python",
   "name": "python3"
  },
  "language_info": {
   "codemirror_mode": {
    "name": "ipython",
    "version": 3
   },
   "file_extension": ".py",
   "mimetype": "text/x-python",
   "name": "python",
   "nbconvert_exporter": "python",
   "pygments_lexer": "ipython3",
   "version": "3.11.4"
  }
 },
 "nbformat": 4,
 "nbformat_minor": 2
}
